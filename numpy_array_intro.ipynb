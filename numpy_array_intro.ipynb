{
 "cells": [
  {
   "cell_type": "code",
   "execution_count": 2,
   "metadata": {},
   "outputs": [],
   "source": [
    "import numpy as np"
   ]
  },
  {
   "cell_type": "code",
   "execution_count": 3,
   "metadata": {},
   "outputs": [
    {
     "name": "stdout",
     "output_type": "stream",
     "text": [
      "[180 215 210 210 188 176 209 200]\n",
      "[1.8  2.15 2.1  2.1  1.88 1.76 2.09 2.  ]\n"
     ]
    }
   ],
   "source": [
    "# Create list baseball\n",
    "baseball_heights = [180, 215, 210, 210, 188, 176, 209, 200]\n",
    "\n",
    "# Create a numpy array from baseball: np_baseball\n",
    "np_baseball = np.array(baseball_heights)\n",
    "\n",
    "# Print out type of np_baseball\n",
    "print(np_baseball)\n",
    "\n",
    "# Print out the heights divided by 100\n",
    "print(np_baseball / 100)"
   ]
  },
  {
   "cell_type": "markdown",
   "metadata": {},
   "source": [
    "**Array Creation and Manipulation**\n",
    "   Create a 2D numpy array of shape (3, 3) filled with the number 7.\n"
   ]
  },
  {
   "cell_type": "code",
   "execution_count": 4,
   "metadata": {},
   "outputs": [
    {
     "name": "stdout",
     "output_type": "stream",
     "text": [
      "[[7 7 7]\n",
      " [7 7 7]\n",
      " [7 7 7]]\n"
     ]
    },
    {
     "data": {
      "text/plain": [
       "(3, 3)"
      ]
     },
     "execution_count": 4,
     "metadata": {},
     "output_type": "execute_result"
    }
   ],
   "source": [
    "D = np.array([\n",
    "    [7,7,7],\n",
    "    [7,7,7],\n",
    "    [7,7,7],\n",
    "])\n",
    "print(D)\n",
    "D.shape\n"
   ]
  },
  {
   "cell_type": "markdown",
   "metadata": {},
   "source": [
    "**Array Indexing**\n",
    "   Given a numpy array `arr = np.array([1, 2, 3, 4, 5, 6, 7, 8, 9])`, extract all the odd numbers from the array."
   ]
  },
  {
   "cell_type": "markdown",
   "metadata": {},
   "source": [
    " **Array Operations**\n",
    "   Given two numpy arrays `arr1 = np.array([1, 2, 3])` and `arr2 = np.array([4, 5, 6])`, perform element-wise multiplication and print the result."
   ]
  },
  {
   "cell_type": "markdown",
   "metadata": {},
   "source": [
    " **Statistical Functions**\n",
    "   Given a numpy array `arr = np.array([20, 15, 37, 35, 29])`, calculate the mean, median, and standard deviation of the array.\n"
   ]
  },
  {
   "cell_type": "markdown",
   "metadata": {},
   "source": [
    " **Boolean Indexing**\n",
    "   Given a numpy array `arr = np.array([1, 2, 3, 4, 5, 6, 7, 8, 9])`, find the indices where the values are even."
   ]
  },
  {
   "cell_type": "markdown",
   "metadata": {},
   "source": [
    "**Reshaping and Flattening**\n",
    "   Given a 2D numpy array `arr = np.array([[1, 2, 3], [4, 5, 6], [7, 8, 9]])`, reshape it to a 1D array."
   ]
  },
  {
   "cell_type": "markdown",
   "metadata": {},
   "source": [
    " **Array Sorting**\n",
    "   Given a numpy array `arr = np.array([3, 2, 0, 1])`, sort the array in ascending order."
   ]
  },
  {
   "cell_type": "markdown",
   "metadata": {},
   "source": [
    "**Array Concatenation**\n",
    "   Given two numpy arrays `arr1 = np.array([1, 2, 3])` and `arr2 = np.array([4, 5, 6])`, concatenate them into a single array."
   ]
  },
  {
   "cell_type": "markdown",
   "metadata": {},
   "source": [
    "**Broadcasting**\n",
    "   Given a 2D numpy array `arr = np.array([[1, 2, 3], [4, 5, 6], [7, 8, 9]])` and a 1D array `b = np.array([1, 0, 1])`, add `b` to `arr` such that each row of `arr` is incremented by `b`."
   ]
  },
  {
   "cell_type": "markdown",
   "metadata": {},
   "source": [
    "**Random Number Generation**\n",
    "    Generate a numpy array of shape (3, 2) filled with random numbers between 0 and 1."
   ]
  },
  {
   "cell_type": "markdown",
   "metadata": {},
   "source": []
  }
 ],
 "metadata": {
  "kernelspec": {
   "display_name": "Python 3",
   "language": "python",
   "name": "python3"
  },
  "language_info": {
   "codemirror_mode": {
    "name": "ipython",
    "version": 3
   },
   "file_extension": ".py",
   "mimetype": "text/x-python",
   "name": "python",
   "nbconvert_exporter": "python",
   "pygments_lexer": "ipython3",
   "version": "3.12.1"
  }
 },
 "nbformat": 4,
 "nbformat_minor": 2
}
